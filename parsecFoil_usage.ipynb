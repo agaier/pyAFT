{
 "cells": [
  {
   "cell_type": "code",
   "execution_count": 7,
   "metadata": {},
   "outputs": [
    {
     "name": "stdout",
     "output_type": "stream",
     "text": [
      "The autoreload extension is already loaded. To reload it, use:\n",
      "  %reload_ext autoreload\n"
     ]
    }
   ],
   "source": [
    "%matplotlib inline\n",
    "%load_ext autoreload\n",
    "%autoreload 2\n",
    "from IPython.display import clear_output\n",
    "from matplotlib import pyplot as plt\n",
    "import numpy as np\n",
    "np.set_printoptions(precision=2) \n",
    "np.set_printoptions(linewidth=160)"
   ]
  },
  {
   "cell_type": "code",
   "execution_count": 8,
   "metadata": {},
   "outputs": [],
   "source": [
    "import parsec as prs\n",
    "from foil_eval import *"
   ]
  },
  {
   "cell_type": "code",
   "execution_count": 9,
   "metadata": {},
   "outputs": [],
   "source": [
    "p = np.ones(10)*0.5"
   ]
  },
  {
   "cell_type": "code",
   "execution_count": 10,
   "metadata": {},
   "outputs": [
    {
     "data": {
      "image/png": "[encoded data removed]",
      "text/plain": [
       "<Figure size 432x288 with 1 Axes>"
      ]
     },
     "metadata": {
      "needs_background": "light"
     },
     "output_type": "display_data"
    }
   ],
   "source": [
    "foil = prs.Airfoil()\n",
    "coord = foil.express()\n",
    "rae = np.loadtxt('RAE2822.csv',delimiter=',').T\n",
    "fig, ax = plt.subplots()\n",
    "ax.plot(rae[0,:],rae[1,:],'k.',label='MATLAB')\n",
    "ax.plot(coord[0,:], coord[1,:],'b.',label='Python')\n",
    "ax.legend()\n",
    "coord = foil.express()\n",
    "\n",
    "#ax.axis([0, 1, -0.07, 0.07])\n",
    "#plt.show()"
   ]
  },
  {
   "cell_type": "code",
   "execution_count": 11,
   "metadata": {},
   "outputs": [
    {
     "data": {
      "text/plain": [
       "(4.655411402424838, array([0.55, 0.08]))"
      ]
     },
     "execution_count": 11,
     "metadata": {},
     "output_type": "execute_result"
    }
   ],
   "source": [
    "evalFoil(coord)"
   ]
  },
  {
   "cell_type": "code",
   "execution_count": 15,
   "metadata": {},
   "outputs": [
    {
     "name": "stdout",
     "output_type": "stream",
     "text": [
      "nan\n",
      "4.564988396355259\n",
      "nan\n",
      "4.758321365482266\n",
      "nan\n",
      "4.781907364488145\n",
      "4.535644123339481\n",
      "3.648505559975663\n",
      "4.798754935060757\n",
      "4.648077686999368\n",
      "4.5814536593707755\n",
      "4.6356293934728\n",
      "4.519910342037268\n",
      "4.57270299585059\n",
      "4.832070786180013\n",
      "nan\n",
      "4.179902450583747\n",
      "4.809737351729366\n",
      "nan\n",
      "nan\n",
      "4.650167551918827\n",
      "4.806063128367481\n",
      "4.6788167261563895\n",
      "nan\n",
      "4.8196017967002796\n",
      "nan\n",
      "3.12220293760794\n",
      "nan\n",
      "nan\n",
      "nan\n",
      "4.648077686999368\n",
      "nan\n",
      "3.3535507281948025\n",
      "4.079258924804059\n",
      "4.271559181647911\n",
      "nan\n",
      "4.545016263168344\n",
      "nan\n",
      "4.079850116071648\n",
      "nan\n",
      "nan\n",
      "4.827064517901869\n",
      "4.735278871335112\n",
      "4.727337819962299\n",
      "4.6617405374764855\n",
      "4.829564519203954\n",
      "4.771224770318174\n",
      "4.754830960542498\n",
      "4.561153300571317\n",
      "nan\n"
     ]
    }
   ],
   "source": [
    "np.random.seed(0)\n",
    "for i in range(50):\n",
    "    p = np.random.rand((10))*0.5 # Mid Params\n",
    "    new_coord = foil.express(params=p)\n",
    "    fit, behavior = evalFoil(new_coord)\n",
    "    print(fit)   "
   ]
  },
  {
   "cell_type": "code",
   "execution_count": null,
   "metadata": {},
   "outputs": [],
   "source": []
  },
  {
   "cell_type": "code",
   "execution_count": null,
   "metadata": {},
   "outputs": [],
   "source": []
  }
 ],
 "metadata": {
  "kernelspec": {
   "display_name": "Python 3",
   "language": "python",
   "name": "python3"
  },
  "language_info": {
   "codemirror_mode": {
    "name": "ipython",
    "version": 3
   },
   "file_extension": ".py",
   "mimetype": "text/x-python",
   "name": "python",
   "nbconvert_exporter": "python",
   "pygments_lexer": "ipython3",
   "version": "3.8.5"
  }
 },
 "nbformat": 4,
 "nbformat_minor": 4
}
