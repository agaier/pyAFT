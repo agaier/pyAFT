{
 "cells": [
  {
   "cell_type": "code",
   "execution_count": 19,
   "metadata": {},
   "outputs": [
    {
     "name": "stdout",
     "output_type": "stream",
     "text": [
      "The autoreload extension is already loaded. To reload it, use:\n",
      "  %reload_ext autoreload\n"
     ]
    }
   ],
   "source": [
    "%matplotlib inline\n",
    "%load_ext autoreload\n",
    "%autoreload 2\n",
    "from IPython.display import clear_output\n",
    "from matplotlib import pyplot as plt\n",
    "import numpy as np\n",
    "np.set_printoptions(precision=2) \n",
    "np.set_printoptions(linewidth=160)"
   ]
  },
  {
   "cell_type": "code",
   "execution_count": 20,
   "metadata": {},
   "outputs": [],
   "source": [
    "import parsec as prs\n",
    "from foil_eval import *"
   ]
  },
  {
   "cell_type": "code",
   "execution_count": 21,
   "metadata": {},
   "outputs": [],
   "source": [
    "p = np.ones(10)*0.5"
   ]
  },
  {
   "cell_type": "code",
   "execution_count": 22,
   "metadata": {},
   "outputs": [
    {
     "data": {
      "image/png": "[encoded data removed]",
      "text/plain": [
       "<Figure size 432x288 with 1 Axes>"
      ]
     },
     "metadata": {
      "needs_background": "light"
     },
     "output_type": "display_data"
    }
   ],
   "source": [
    "foil = prs.Airfoil()\n",
    "coord = foil.express()\n",
    "rae = np.loadtxt('RAE2822.csv',delimiter=',').T\n",
    "fig, ax = plt.subplots()\n",
    "ax.plot(rae[0,:],rae[1,:],'k.',label='MATLAB')\n",
    "ax.plot(coord[0,:], coord[1,:],'b.',label='Python')\n",
    "ax.legend()\n",
    "coord = foil.express()\n",
    "\n",
    "#ax.axis([0, 1, -0.07, 0.07])\n",
    "#plt.show()"
   ]
  },
  {
   "cell_type": "code",
   "execution_count": 69,
   "metadata": {},
   "outputs": [
    {
     "data": {
      "text/plain": [
       "(4.598194572251666, array([0.53, 0.08]))"
      ]
     },
     "execution_count": 69,
     "metadata": {},
     "output_type": "execute_result"
    }
   ],
   "source": [
    "evalFoil(coord)"
   ]
  },
  {
   "cell_type": "code",
   "execution_count": 70,
   "metadata": {},
   "outputs": [
    {
     "name": "stdout",
     "output_type": "stream",
     "text": [
      "3.547379891840237\n",
      "nan\n",
      "nan\n",
      "4.586348431747504\n",
      "nan\n",
      "nan\n",
      "4.089357020711062\n",
      "nan\n",
      "nan\n",
      "nan\n",
      "nan\n",
      "3.2699059959809795\n",
      "nan\n",
      "nan\n",
      "nan\n",
      "4.27947004634879\n",
      "nan\n",
      "nan\n",
      "nan\n",
      "3.5805633106304775\n",
      "4.575611383746547\n",
      "nan\n",
      "nan\n",
      "nan\n",
      "nan\n",
      "nan\n",
      "nan\n",
      "nan\n",
      "nan\n",
      "nan\n",
      "nan\n",
      "nan\n",
      "4.692909100296098\n",
      "nan\n",
      "nan\n",
      "nan\n",
      "4.5573328565739315\n",
      "nan\n",
      "nan\n",
      "nan\n",
      "nan\n",
      "nan\n",
      "nan\n",
      "nan\n",
      "nan\n",
      "nan\n",
      "nan\n",
      "nan\n",
      "nan\n",
      "nan\n"
     ]
    }
   ],
   "source": [
    "for i in range(50):\n",
    "    #p = np.array((0.1155, 0.7695, 0.180, 0.2788, 0.1244, 0.1516, 0.720, 0.5576, 0.25, 0.7)) # RAE\n",
    "    #p = np.ones((10))*0.4 # Mid Params\n",
    "    p = np.random.rand((10))*0.5 # Mid Params\n",
    "    new_coord = foil.express(params=p)\n",
    "    fit, behavior = evalFoil(new_coord)\n",
    "    print(fit)\n",
    "    #plt.plot(new_coord[0,:], new_coord[1,:],'b.')\n",
    "    #plt.title(str(fit))\n",
    "    #plt.show()\n",
    "    "
   ]
  },
  {
   "cell_type": "code",
   "execution_count": null,
   "metadata": {},
   "outputs": [],
   "source": []
  },
  {
   "cell_type": "code",
   "execution_count": null,
   "metadata": {},
   "outputs": [],
   "source": []
  }
 ],
 "metadata": {
  "kernelspec": {
   "display_name": "Python 3",
   "language": "python",
   "name": "python3"
  },
  "language_info": {
   "codemirror_mode": {
    "name": "ipython",
    "version": 3
   },
   "file_extension": ".py",
   "mimetype": "text/x-python",
   "name": "python",
   "nbconvert_exporter": "python",
   "pygments_lexer": "ipython3",
   "version": "3.8.5"
  }
 },
 "nbformat": 4,
 "nbformat_minor": 4
}
